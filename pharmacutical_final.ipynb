{
 "cells": [
  {
   "cell_type": "markdown",
   "metadata": {},
   "source": [
    "## Observations and Insights "
   ]
  },
  {
   "cell_type": "markdown",
   "metadata": {},
   "source": [
    "The study analyzed ten drug regimens and the ability to reduce tumor size in a cohort of mice. The study contained equal distribution of between male and female mice. The most studied drugs were Capomulin and Ramicane as indicated by the total timepoints in the bar charts. In addition to being the drugs which had the most timepoints measured these drugs had lower variation and standard deviations than other drugs that combined with the low standard error of the mean indicates consistent results and the ability to repeat these results if the study was repeated. Capomulin and Ramicane demonstrated the ability to reduce the tumor size over the course of the study (see boxplots). Infubinol and Ceftamin were adisplayed in the box plots to analyze final tumor size had higher final average tumor size which indicates that these drugs were not as effective in reducing tumor size over time. Specific analysis of mouse s185 treated with Capomulin demonstrated the drug’s ability to consistently reduce tumor size over time. Capomulin drug regimen was analyzed further for Mouse Weight and Tumor Volume. This relationship had a strong positive correlation represented by the correlation coefficient of .84. Correlation between the variables show that as the tumor volume decreased so did the weight of the mouse. Typically, this would be an expected result when the tumor size decreases. "
   ]
  },
  {
   "cell_type": "code",
   "execution_count": 40,
   "metadata": {},
   "outputs": [
    {
     "data": {
      "text/html": [
       "<div>\n",
       "<style scoped>\n",
       "    .dataframe tbody tr th:only-of-type {\n",
       "        vertical-align: middle;\n",
       "    }\n",
       "\n",
       "    .dataframe tbody tr th {\n",
       "        vertical-align: top;\n",
       "    }\n",
       "\n",
       "    .dataframe thead th {\n",
       "        text-align: right;\n",
       "    }\n",
       "</style>\n",
       "<table border=\"1\" class=\"dataframe\">\n",
       "  <thead>\n",
       "    <tr style=\"text-align: right;\">\n",
       "      <th></th>\n",
       "      <th>Mouse ID</th>\n",
       "      <th>Drug Regimen</th>\n",
       "      <th>Sex</th>\n",
       "      <th>Age_months</th>\n",
       "      <th>Weight (g)</th>\n",
       "      <th>Timepoint</th>\n",
       "      <th>Tumor Volume (mm3)</th>\n",
       "      <th>Metastatic Sites</th>\n",
       "    </tr>\n",
       "  </thead>\n",
       "  <tbody>\n",
       "    <tr>\n",
       "      <th>0</th>\n",
       "      <td>k403</td>\n",
       "      <td>Ramicane</td>\n",
       "      <td>Male</td>\n",
       "      <td>21</td>\n",
       "      <td>16</td>\n",
       "      <td>0</td>\n",
       "      <td>45.00</td>\n",
       "      <td>0</td>\n",
       "    </tr>\n",
       "    <tr>\n",
       "      <th>1</th>\n",
       "      <td>k403</td>\n",
       "      <td>Ramicane</td>\n",
       "      <td>Male</td>\n",
       "      <td>21</td>\n",
       "      <td>16</td>\n",
       "      <td>5</td>\n",
       "      <td>38.83</td>\n",
       "      <td>0</td>\n",
       "    </tr>\n",
       "    <tr>\n",
       "      <th>2</th>\n",
       "      <td>k403</td>\n",
       "      <td>Ramicane</td>\n",
       "      <td>Male</td>\n",
       "      <td>21</td>\n",
       "      <td>16</td>\n",
       "      <td>10</td>\n",
       "      <td>35.01</td>\n",
       "      <td>1</td>\n",
       "    </tr>\n",
       "    <tr>\n",
       "      <th>3</th>\n",
       "      <td>k403</td>\n",
       "      <td>Ramicane</td>\n",
       "      <td>Male</td>\n",
       "      <td>21</td>\n",
       "      <td>16</td>\n",
       "      <td>15</td>\n",
       "      <td>34.22</td>\n",
       "      <td>1</td>\n",
       "    </tr>\n",
       "    <tr>\n",
       "      <th>4</th>\n",
       "      <td>k403</td>\n",
       "      <td>Ramicane</td>\n",
       "      <td>Male</td>\n",
       "      <td>21</td>\n",
       "      <td>16</td>\n",
       "      <td>20</td>\n",
       "      <td>33.00</td>\n",
       "      <td>1</td>\n",
       "    </tr>\n",
       "  </tbody>\n",
       "</table>\n",
       "</div>"
      ],
      "text/plain": [
       "  Mouse ID Drug Regimen   Sex  Age_months  Weight (g)  Timepoint  \\\n",
       "0     k403     Ramicane  Male          21          16          0   \n",
       "1     k403     Ramicane  Male          21          16          5   \n",
       "2     k403     Ramicane  Male          21          16         10   \n",
       "3     k403     Ramicane  Male          21          16         15   \n",
       "4     k403     Ramicane  Male          21          16         20   \n",
       "\n",
       "   Tumor Volume (mm3)  Metastatic Sites  \n",
       "0               45.00                 0  \n",
       "1               38.83                 0  \n",
       "2               35.01                 1  \n",
       "3               34.22                 1  \n",
       "4               33.00                 1  "
      ]
     },
     "execution_count": 40,
     "metadata": {},
     "output_type": "execute_result"
    }
   ],
   "source": [
    "# Dependencies and Setup\n",
    "import matplotlib.pyplot as plt\n",
    "import pandas as pd\n",
    "import scipy.stats as st\n",
    "from scipy.stats import linregress\n",
    "import numpy \n",
    "import matplotlib.style\n",
    "%matplotlib inline\n",
    "\n",
    "# Study data files\n",
    "mouse_metadata_path = \"Resources/Mouse_metadata.csv\"\n",
    "study_results_path = \"Resources/Study_results.csv\"\n",
    "\n",
    "# Read the mouse data and the study results\n",
    "mouse_metadata = pd.read_csv(mouse_metadata_path)\n",
    "study_results = pd.read_csv(study_results_path)\n",
    "\n",
    "# Combine the data into a single dataset\n",
    "tumor_df = mouse_metadata.merge (study_results, on = 'Mouse ID')\n",
    "\n",
    "# Display the data table for preview\n",
    "tumor_df.head()"
   ]
  },
  {
   "cell_type": "code",
   "execution_count": 41,
   "metadata": {},
   "outputs": [
    {
     "name": "stdout",
     "output_type": "stream",
     "text": [
      "249\n"
     ]
    }
   ],
   "source": [
    "# Checking the number of mice.\n",
    "mice_num1 = tumor_df['Mouse ID'].nunique()\n",
    "\n",
    "print(mice_num1)\n"
   ]
  },
  {
   "cell_type": "code",
   "execution_count": 42,
   "metadata": {},
   "outputs": [
    {
     "name": "stdout",
     "output_type": "stream",
     "text": [
      "['g989']\n"
     ]
    }
   ],
   "source": [
    "# Getting the duplicate mice by ID number that shows up for Mouse ID and Timepoint. \n",
    "duplicates = tumor_df.loc[tumor_df.duplicated(subset=['Mouse ID', 'Timepoint',]),'Mouse ID'].unique()\n",
    "\n",
    "print(duplicates)"
   ]
  },
  {
   "cell_type": "code",
   "execution_count": 43,
   "metadata": {},
   "outputs": [],
   "source": [
    "# Create a clean DataFrame by dropping the duplicate mouse by its ID.\n",
    "c_tumor = tumor_df.loc[tumor_df['Mouse ID'] != \"g989\"]"
   ]
  },
  {
   "cell_type": "code",
   "execution_count": 44,
   "metadata": {},
   "outputs": [
    {
     "name": "stdout",
     "output_type": "stream",
     "text": [
      "248\n"
     ]
    }
   ],
   "source": [
    "# Checking the number of mice in the clean DataFrame.\n",
    "mice_num2 = c_tumor['Mouse ID'].nunique()\n",
    "\n",
    "print(mice_num2)"
   ]
  },
  {
   "cell_type": "markdown",
   "metadata": {},
   "source": [
    "## Summary Statistics"
   ]
  },
  {
   "cell_type": "code",
   "execution_count": 45,
   "metadata": {},
   "outputs": [
    {
     "data": {
      "text/html": [
       "<div>\n",
       "<style scoped>\n",
       "    .dataframe tbody tr th:only-of-type {\n",
       "        vertical-align: middle;\n",
       "    }\n",
       "\n",
       "    .dataframe tbody tr th {\n",
       "        vertical-align: top;\n",
       "    }\n",
       "\n",
       "    .dataframe thead th {\n",
       "        text-align: right;\n",
       "    }\n",
       "</style>\n",
       "<table border=\"1\" class=\"dataframe\">\n",
       "  <thead>\n",
       "    <tr style=\"text-align: right;\">\n",
       "      <th></th>\n",
       "      <th>Tumor Vol Mean</th>\n",
       "      <th>Tumor Vol Median</th>\n",
       "      <th>Tumor Vol Variance</th>\n",
       "      <th>Tumor Vol STD</th>\n",
       "      <th>Tumor Vol SEM</th>\n",
       "    </tr>\n",
       "    <tr>\n",
       "      <th>Drug Regimen</th>\n",
       "      <th></th>\n",
       "      <th></th>\n",
       "      <th></th>\n",
       "      <th></th>\n",
       "      <th></th>\n",
       "    </tr>\n",
       "  </thead>\n",
       "  <tbody>\n",
       "    <tr>\n",
       "      <th>Capomulin</th>\n",
       "      <td>40.68</td>\n",
       "      <td>41.56</td>\n",
       "      <td>24.95</td>\n",
       "      <td>4.99</td>\n",
       "      <td>0.33</td>\n",
       "    </tr>\n",
       "    <tr>\n",
       "      <th>Ceftamin</th>\n",
       "      <td>52.59</td>\n",
       "      <td>51.78</td>\n",
       "      <td>39.29</td>\n",
       "      <td>6.27</td>\n",
       "      <td>0.47</td>\n",
       "    </tr>\n",
       "    <tr>\n",
       "      <th>Infubinol</th>\n",
       "      <td>52.88</td>\n",
       "      <td>51.82</td>\n",
       "      <td>43.13</td>\n",
       "      <td>6.57</td>\n",
       "      <td>0.49</td>\n",
       "    </tr>\n",
       "    <tr>\n",
       "      <th>Ketapril</th>\n",
       "      <td>55.24</td>\n",
       "      <td>53.70</td>\n",
       "      <td>68.55</td>\n",
       "      <td>8.28</td>\n",
       "      <td>0.60</td>\n",
       "    </tr>\n",
       "    <tr>\n",
       "      <th>Naftisol</th>\n",
       "      <td>54.33</td>\n",
       "      <td>52.51</td>\n",
       "      <td>66.17</td>\n",
       "      <td>8.13</td>\n",
       "      <td>0.60</td>\n",
       "    </tr>\n",
       "    <tr>\n",
       "      <th>Placebo</th>\n",
       "      <td>54.03</td>\n",
       "      <td>52.29</td>\n",
       "      <td>61.17</td>\n",
       "      <td>7.82</td>\n",
       "      <td>0.58</td>\n",
       "    </tr>\n",
       "    <tr>\n",
       "      <th>Propriva</th>\n",
       "      <td>52.32</td>\n",
       "      <td>50.45</td>\n",
       "      <td>43.85</td>\n",
       "      <td>6.62</td>\n",
       "      <td>0.54</td>\n",
       "    </tr>\n",
       "    <tr>\n",
       "      <th>Ramicane</th>\n",
       "      <td>40.22</td>\n",
       "      <td>40.67</td>\n",
       "      <td>23.49</td>\n",
       "      <td>4.85</td>\n",
       "      <td>0.32</td>\n",
       "    </tr>\n",
       "    <tr>\n",
       "      <th>Stelasyn</th>\n",
       "      <td>54.23</td>\n",
       "      <td>52.43</td>\n",
       "      <td>59.45</td>\n",
       "      <td>7.71</td>\n",
       "      <td>0.57</td>\n",
       "    </tr>\n",
       "    <tr>\n",
       "      <th>Zoniferol</th>\n",
       "      <td>53.24</td>\n",
       "      <td>51.82</td>\n",
       "      <td>48.53</td>\n",
       "      <td>6.97</td>\n",
       "      <td>0.52</td>\n",
       "    </tr>\n",
       "  </tbody>\n",
       "</table>\n",
       "</div>"
      ],
      "text/plain": [
       "              Tumor Vol Mean  Tumor Vol Median  Tumor Vol Variance  \\\n",
       "Drug Regimen                                                         \n",
       "Capomulin              40.68             41.56               24.95   \n",
       "Ceftamin               52.59             51.78               39.29   \n",
       "Infubinol              52.88             51.82               43.13   \n",
       "Ketapril               55.24             53.70               68.55   \n",
       "Naftisol               54.33             52.51               66.17   \n",
       "Placebo                54.03             52.29               61.17   \n",
       "Propriva               52.32             50.45               43.85   \n",
       "Ramicane               40.22             40.67               23.49   \n",
       "Stelasyn               54.23             52.43               59.45   \n",
       "Zoniferol              53.24             51.82               48.53   \n",
       "\n",
       "              Tumor Vol STD  Tumor Vol SEM  \n",
       "Drug Regimen                                \n",
       "Capomulin              4.99           0.33  \n",
       "Ceftamin               6.27           0.47  \n",
       "Infubinol              6.57           0.49  \n",
       "Ketapril               8.28           0.60  \n",
       "Naftisol               8.13           0.60  \n",
       "Placebo                7.82           0.58  \n",
       "Propriva               6.62           0.54  \n",
       "Ramicane               4.85           0.32  \n",
       "Stelasyn               7.71           0.57  \n",
       "Zoniferol              6.97           0.52  "
      ]
     },
     "execution_count": 45,
     "metadata": {},
     "output_type": "execute_result"
    }
   ],
   "source": [
    "# Use groupby and summary statistical methods to calculate the following properties of each drug regimen: \n",
    "reg_groups = c_tumor.groupby('Drug Regimen')\n",
    "\n",
    "# mean, median, variance, standard deviation, and SEM of the tumor volume. \n",
    "t_mean = reg_groups[('Tumor Volume (mm3)')].mean()\n",
    "t_median = reg_groups[('Tumor Volume (mm3)')].median()\n",
    "t_variance = reg_groups[('Tumor Volume (mm3)')].var()\n",
    "t_std = reg_groups[('Tumor Volume (mm3)')].std()\n",
    "t_sem = reg_groups[('Tumor Volume (mm3)')].sem()\n",
    "\n",
    "# Summary Data Frame\n",
    "t_stats = pd.DataFrame({\"Tumor Vol Mean\" : t_mean, \"Tumor Vol Median\" : t_median, \"Tumor Vol Variance\" : t_variance, \"Tumor Vol STD\" : t_std, \"Tumor Vol SEM\" : t_sem})\n",
    "pd.set_option(\"display.precision\", 2)\n",
    "t_stats"
   ]
  },
  {
   "cell_type": "code",
   "execution_count": 46,
   "metadata": {},
   "outputs": [
    {
     "data": {
      "text/html": [
       "<div>\n",
       "<style scoped>\n",
       "    .dataframe tbody tr th:only-of-type {\n",
       "        vertical-align: middle;\n",
       "    }\n",
       "\n",
       "    .dataframe tbody tr th {\n",
       "        vertical-align: top;\n",
       "    }\n",
       "\n",
       "    .dataframe thead th {\n",
       "        text-align: right;\n",
       "    }\n",
       "</style>\n",
       "<table border=\"1\" class=\"dataframe\">\n",
       "  <thead>\n",
       "    <tr style=\"text-align: right;\">\n",
       "      <th></th>\n",
       "      <th>mean</th>\n",
       "      <th>median</th>\n",
       "      <th>var</th>\n",
       "      <th>std</th>\n",
       "      <th>sem</th>\n",
       "    </tr>\n",
       "    <tr>\n",
       "      <th>Drug Regimen</th>\n",
       "      <th></th>\n",
       "      <th></th>\n",
       "      <th></th>\n",
       "      <th></th>\n",
       "      <th></th>\n",
       "    </tr>\n",
       "  </thead>\n",
       "  <tbody>\n",
       "    <tr>\n",
       "      <th>Capomulin</th>\n",
       "      <td>40.68</td>\n",
       "      <td>41.56</td>\n",
       "      <td>24.95</td>\n",
       "      <td>4.99</td>\n",
       "      <td>0.33</td>\n",
       "    </tr>\n",
       "    <tr>\n",
       "      <th>Ceftamin</th>\n",
       "      <td>52.59</td>\n",
       "      <td>51.78</td>\n",
       "      <td>39.29</td>\n",
       "      <td>6.27</td>\n",
       "      <td>0.47</td>\n",
       "    </tr>\n",
       "    <tr>\n",
       "      <th>Infubinol</th>\n",
       "      <td>52.88</td>\n",
       "      <td>51.82</td>\n",
       "      <td>43.13</td>\n",
       "      <td>6.57</td>\n",
       "      <td>0.49</td>\n",
       "    </tr>\n",
       "    <tr>\n",
       "      <th>Ketapril</th>\n",
       "      <td>55.24</td>\n",
       "      <td>53.70</td>\n",
       "      <td>68.55</td>\n",
       "      <td>8.28</td>\n",
       "      <td>0.60</td>\n",
       "    </tr>\n",
       "    <tr>\n",
       "      <th>Naftisol</th>\n",
       "      <td>54.33</td>\n",
       "      <td>52.51</td>\n",
       "      <td>66.17</td>\n",
       "      <td>8.13</td>\n",
       "      <td>0.60</td>\n",
       "    </tr>\n",
       "    <tr>\n",
       "      <th>Placebo</th>\n",
       "      <td>54.03</td>\n",
       "      <td>52.29</td>\n",
       "      <td>61.17</td>\n",
       "      <td>7.82</td>\n",
       "      <td>0.58</td>\n",
       "    </tr>\n",
       "    <tr>\n",
       "      <th>Propriva</th>\n",
       "      <td>52.32</td>\n",
       "      <td>50.45</td>\n",
       "      <td>43.85</td>\n",
       "      <td>6.62</td>\n",
       "      <td>0.54</td>\n",
       "    </tr>\n",
       "    <tr>\n",
       "      <th>Ramicane</th>\n",
       "      <td>40.22</td>\n",
       "      <td>40.67</td>\n",
       "      <td>23.49</td>\n",
       "      <td>4.85</td>\n",
       "      <td>0.32</td>\n",
       "    </tr>\n",
       "    <tr>\n",
       "      <th>Stelasyn</th>\n",
       "      <td>54.23</td>\n",
       "      <td>52.43</td>\n",
       "      <td>59.45</td>\n",
       "      <td>7.71</td>\n",
       "      <td>0.57</td>\n",
       "    </tr>\n",
       "    <tr>\n",
       "      <th>Zoniferol</th>\n",
       "      <td>53.24</td>\n",
       "      <td>51.82</td>\n",
       "      <td>48.53</td>\n",
       "      <td>6.97</td>\n",
       "      <td>0.52</td>\n",
       "    </tr>\n",
       "  </tbody>\n",
       "</table>\n",
       "</div>"
      ],
      "text/plain": [
       "               mean  median    var   std   sem\n",
       "Drug Regimen                                  \n",
       "Capomulin     40.68   41.56  24.95  4.99  0.33\n",
       "Ceftamin      52.59   51.78  39.29  6.27  0.47\n",
       "Infubinol     52.88   51.82  43.13  6.57  0.49\n",
       "Ketapril      55.24   53.70  68.55  8.28  0.60\n",
       "Naftisol      54.33   52.51  66.17  8.13  0.60\n",
       "Placebo       54.03   52.29  61.17  7.82  0.58\n",
       "Propriva      52.32   50.45  43.85  6.62  0.54\n",
       "Ramicane      40.22   40.67  23.49  4.85  0.32\n",
       "Stelasyn      54.23   52.43  59.45  7.71  0.57\n",
       "Zoniferol     53.24   51.82  48.53  6.97  0.52"
      ]
     },
     "execution_count": 46,
     "metadata": {},
     "output_type": "execute_result"
    }
   ],
   "source": [
    "# Using the aggregation method, produce the same summary statistics in a single line\n",
    "reg_groups['Tumor Volume (mm3)'].agg(['mean', 'median', 'var', 'std', 'sem'])"
   ]
  },
  {
   "cell_type": "markdown",
   "metadata": {},
   "source": [
    "## Bar and Pie Charts"
   ]
  },
  {
   "cell_type": "code",
   "execution_count": 47,
   "metadata": {},
   "outputs": [
    {
     "data": {
      "image/png": "[encoded data removed]",
      "text/plain": [
       "<Figure size 432x288 with 1 Axes>"
      ]
     },
     "metadata": {
      "needs_background": "light"
     },
     "output_type": "display_data"
    }
   ],
   "source": [
    "# Generate a bar plot showing the total number of timepoints for all mice tested for each drug regimen using Pandas.\n",
    "\n",
    "#Count the timepoints by group into dataframe\n",
    "regimen_timepoints = reg_groups.agg({\"Timepoint\":\"count\"})\n",
    "\n",
    "#Generate Bar Graph\n",
    "regimen_timepoints.plot(kind=\"bar\")\n",
    "plt.title(\"Total Timepoints By Regimen\")\n",
    "plt.ylabel(\"Timepoints\")\n",
    "plt.show()"
   ]
  },
  {
   "cell_type": "code",
   "execution_count": 48,
   "metadata": {},
   "outputs": [
    {
     "data": {
      "image/png": "[encoded data removed]",
      "text/plain": [
       "<Figure size 432x288 with 1 Axes>"
      ]
     },
     "metadata": {
      "needs_background": "light"
     },
     "output_type": "display_data"
    }
   ],
   "source": [
    "# Generate a bar plot showing the total number of timepoints for all mice tested for each drug regimen using pyplot.\n",
    "\n",
    "#Set x and y data values\n",
    "c_tumor1= c_tumor.sort_values(by=['Drug Regimen'])\n",
    "\n",
    "set_x = c_tumor1[\"Drug Regimen\"].unique()\n",
    "set_y = regimen_timepoints[\"Timepoint\"]\n",
    "\n",
    "#Establish dataframe with the values\n",
    "plt.bar(set_x, set_y, width = .54)\n",
    "\n",
    "#Chart editing\n",
    "plt.title(\"Total Timepoints By Regimen\")\n",
    "plt.xticks(rotation=90)\n",
    "plt.xlabel(\"Drug Regimen\")\n",
    "plt.ylabel(\"Timepoints\")\n",
    "plt.show()\n"
   ]
  },
  {
   "cell_type": "code",
   "execution_count": 49,
   "metadata": {},
   "outputs": [
    {
     "data": {
      "image/png": "[encoded data removed]",
      "text/plain": [
       "<Figure size 432x288 with 1 Axes>"
      ]
     },
     "metadata": {},
     "output_type": "display_data"
    }
   ],
   "source": [
    "# Generate a pie plot showing the distribution of female versus male mice using Pandas\n",
    "# Group Unique mice by sex\n",
    "male_female = c_tumor.groupby(\"Sex\").nunique()[\"Mouse ID\"]\n",
    "\n",
    "#Establish Pie Chart \n",
    "male_female.plot(kind=\"pie\", autopct='%1.1f%%', startangle=65)\n",
    "plt.title(\"Male/Female Distribution\")\n",
    "plt.show()\n"
   ]
  },
  {
   "cell_type": "code",
   "execution_count": 50,
   "metadata": {},
   "outputs": [
    {
     "data": {
      "image/png": "[encoded data removed]",
      "text/plain": [
       "<Figure size 432x288 with 1 Axes>"
      ]
     },
     "metadata": {},
     "output_type": "display_data"
    }
   ],
   "source": [
    "# Generate a pie plot showing the distribution of female versus male mice using pyplot\n",
    "labels = [\"Female\", \"Male\"]\n",
    "pie, pie1 = plt.subplots()\n",
    "pie1.pie(male_female, labels=labels, autopct='%1.1f%%', startangle=65)\n",
    "pie1.axis('equal')\n",
    "plt.title(\"Male/Female Distribution\")\n",
    "plt.show()\n"
   ]
  },
  {
   "cell_type": "markdown",
   "metadata": {},
   "source": [
    "## Quartiles, Outliers and Boxplots"
   ]
  },
  {
   "cell_type": "code",
   "execution_count": 51,
   "metadata": {},
   "outputs": [],
   "source": [
    "# Capomulin,Ramicane, Infubinol, and Ceftamin\n",
    "unique_mouse = c_tumor.groupby('Mouse ID')\n",
    "\n",
    "# Start by getting the last (greatest) timepoint for each mouse\n",
    "last_time = unique_mouse[\"Timepoint\"].max()\n",
    "\n",
    "# Merge this group df with the original dataframe \n",
    "merged = pd.merge(c_tumor, last_time, on = \"Mouse ID\")\n",
    "cleaned = merged.drop_duplicates(subset = ['Mouse ID', 'Timepoint_y'], keep = 'last').reset_index(drop = True)\n",
    "\n",
    "#Rename Columns in merged dataset\n",
    "cleaned.rename(columns={\"Timepoint_y\": \"Last Time\"}, inplace = True)\n",
    "cleaned.rename(columns={\"Tumor Volume (mm3)\": \"Final Tumor Vol (mm3)\"}, inplace = True)\n",
    "\n",
    "#Establish Location for each of the four drug regimens\n",
    "Capomulin = cleaned.loc[cleaned[\"Drug Regimen\"] == \"Capomulin\"]\n",
    "Ramicane = cleaned.loc[cleaned[\"Drug Regimen\"] == \"Ramicane\"]\n",
    "Infubinol = cleaned.loc[cleaned[\"Drug Regimen\"] == \"Infubinol\"]\n",
    "Ceftamin = cleaned.loc[cleaned[\"Drug Regimen\"] == \"Ceftamin\"]"
   ]
  },
  {
   "cell_type": "code",
   "execution_count": 52,
   "metadata": {},
   "outputs": [
    {
     "name": "stdout",
     "output_type": "stream",
     "text": [
      "Outlier:Infubinol 74    36.32\n",
      "Name: Final Tumor Vol (mm3), dtype: float64\n"
     ]
    }
   ],
   "source": [
    "# Put treatments into a list for for loop (and later for plot labels)\n",
    "\n",
    "drug = [\"Capomulin\", \"Ramicane\", \"Infubinol\", \"Ceftamin\"]\n",
    "\n",
    "# Create empty list for tumor vol data \n",
    "tumor_vol = []\n",
    "\n",
    "# Set loop to locate data for tumor volumne \n",
    "for x in drug:\n",
    "    final_tumor_vol = cleaned.loc[cleaned[\"Drug Regimen\"]== x][\"Final Tumor Vol (mm3)\"]\n",
    "    tumor_vol.append(final_tumor_vol)\n",
    "    \n",
    "#Establish Quartiles and interquartile ranges\n",
    "    quart = final_tumor_vol.quantile([.25,.5,.75])\n",
    "    lowq = (quart[0.25])\n",
    "    med = (quart[0.5])\n",
    "    upq = (quart[0.75])\n",
    "    iqr = (upq-lowq)\n",
    "#Establish upper and lower bound and determine outlier\n",
    "    low_b = round(lowq - (1.5*iqr),2)\n",
    "    up_b = round(upq + (1.5*iqr),2)\n",
    "    out = final_tumor_vol.loc[(final_tumor_vol > up_b) | (final_tumor_vol < low_b)]\n",
    "\n",
    "#Display the outlier  \n",
    "    if out.count() != 0:\n",
    "        print(f\"Outlier:{x} {out}\")\n",
    "    "
   ]
  },
  {
   "cell_type": "code",
   "execution_count": 56,
   "metadata": {},
   "outputs": [
    {
     "data": {
      "image/png": "[encoded data removed]",
      "text/plain": [
       "<Figure size 432x288 with 1 Axes>"
      ]
     },
     "metadata": {
      "needs_background": "light"
     },
     "output_type": "display_data"
    }
   ],
   "source": [
    "# Generate a box plot of the final tumor volume of each mouse across four regimens of interest\n",
    "\n",
    "#Establish Box Plot\n",
    "plt.boxplot(tumor_vol, labels = drug, flierprops = {'markerfacecolor' : 'red'})\n",
    "#Box Plot Formatting \n",
    "\n",
    "plt.title(\"Final Tumor Size Analysis\")\n",
    "plt.xlabel(\"Drugs Studied\")\n",
    "plt.ylabel(\"Final Tumor Volume (mm3)\")\n",
    "plt.show()"
   ]
  },
  {
   "cell_type": "markdown",
   "metadata": {},
   "source": [
    "## Line and Scatter Plots"
   ]
  },
  {
   "cell_type": "code",
   "execution_count": null,
   "metadata": {},
   "outputs": [],
   "source": [
    "# Generate a line plot of tumor volume vs. time point for a mouse treated with Capomulin\n",
    "\n",
    "#Find and Select the mouse location by mouse ID\n",
    "mouse_s185 = c_tumor.loc[c_tumor[\"Mouse ID\"]==\"s185\"]\n",
    "\n",
    "#Use mouse location to establish line chart for mouse S185 for time and tumor volume\n",
    "plt.plot(mouse_s185['Timepoint'], mouse_s185['Tumor Volume (mm3)'])\n",
    "\n",
    "#Chart formating \n",
    "plt.title(\"Mouse s185 Tumor Volume Over Timepoints\")\n",
    "plt.xlabel(\"Timepoint (days)\")\n",
    "plt.ylabel(\"Tumor Volume (mm3)\")\n"
   ]
  },
  {
   "cell_type": "code",
   "execution_count": null,
   "metadata": {},
   "outputs": [],
   "source": [
    "# Generate a scatter plot of average tumor volume vs. mouse weight for the Capomulin regimen\n",
    "#Find location of Capomulin \n",
    "cap = c_tumor.loc[c_tumor[\"Drug Regimen\"] == \"Capomulin\"].groupby(\"Mouse ID\")\n",
    "\n",
    "#x values\n",
    "tumorvol_avg = cap['Tumor Volume (mm3)'].mean()\n",
    "\n",
    "#y values\n",
    "cap_w = c_tumor.loc[c_tumor[\"Drug Regimen\"] == \"Capomulin\"].groupby(\"Mouse ID\")\n",
    "cap_weight = cap_w[\"Weight (g)\"].mean()\n",
    "\n",
    "#Establish Scatter Plot\n",
    "plt.scatter(tumorvol_avg, cap_weight)\n",
    "\n",
    "#Chart Formating \n",
    "plt.title(\"Capomulin Regimen Tumor Vol Vs. Mouse Weight\")\n",
    "plt.ylabel(\"Mouse Weight\")\n",
    "plt.xlabel(\"Mouse Tumor Vol (mm3)\")"
   ]
  },
  {
   "cell_type": "markdown",
   "metadata": {},
   "source": [
    "## Correlation and Regression"
   ]
  },
  {
   "cell_type": "code",
   "execution_count": null,
   "metadata": {
    "scrolled": true
   },
   "outputs": [],
   "source": [
    "#Calculate and pring correlation coefficient\n",
    "print(f\"The correlation coefficient between Mouse Tumor Vol (mm3) and Mouse Weight is {round(st.pearsonr(tumorvol_avg,cap_weight)[0],2)}\")\n",
    "\n",
    "#Duplicate chart above\n",
    "plt.scatter(tumorvol_avg, cap_weight)\n",
    "\n",
    "#Linear regression equation\n",
    "(slope, intercept, rvalue, pvalue, std_err) = linregress(tumorvol_avg, cap_weight)\n",
    "regress_values = tumorvol_avg * slope + intercept\n",
    "line_eq = \"y = \" + str(round(slope,2)) + \"x + \" + str(round(intercept,2))\n",
    "\n",
    "#Place Regression line on plot\n",
    "plt.plot(tumorvol_avg,regress_values,\"r-\")\n",
    "plt.title(\"Capomulin Regimen Tumor Vol Vs. Mouse Weight\")\n",
    "plt.xlabel('Mouse Tumor Vol (mm3)')\n",
    "plt.ylabel('Mouse Weight')\n",
    "plt.annotate(line_eq,(35,24),fontsize=15,color=\"red\")\n",
    "plt.show()"
   ]
  }
 ],
 "metadata": {
  "anaconda-cloud": {},
  "kernelspec": {
   "display_name": "Python 3",
   "language": "python",
   "name": "python3"
  },
  "language_info": {
   "codemirror_mode": {
    "name": "ipython",
    "version": 3
   },
   "file_extension": ".py",
   "mimetype": "text/x-python",
   "name": "python",
   "nbconvert_exporter": "python",
   "pygments_lexer": "ipython3",
   "version": "3.8.8"
  }
 },
 "nbformat": 4,
 "nbformat_minor": 4
}
